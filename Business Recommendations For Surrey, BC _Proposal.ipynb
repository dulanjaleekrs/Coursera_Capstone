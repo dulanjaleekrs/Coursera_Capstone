{
    "cells": [
        {
            "cell_type": "markdown",
            "metadata": {},
            "source": "<i>The Battle of Neighborhoods (Week 1) by Dr K.R.S Dulanjalee</i>"
        },
        {
            "cell_type": "markdown",
            "metadata": {
                "collapsed": true
            },
            "source": "# <center><span style=\"color:green\">Business Recommendations For Surrey, BC, Canada.</span></center>"
        },
        {
            "cell_type": "markdown",
            "metadata": {},
            "source": "## 1. Background.  <br>\n\n\n<span style=\"color:green\">- Who would be interested ?</span>\n\n<span style=\"color:red\">Enyone who is interested in starting new business but who has no any idea regarding which is the field he should step into and whose convenient geolocation is near to surrey will benefit from this.</span>\n\n<br>\n\n-Why Surrey ?\n\n<p>Surrey is a city in the province of British Columbia, Canada, located south of the Fraser River and north of the Canada\u2013United States border. It is a member municipality of the Metro Vancouver regional district and metropolitan area. Mainly a suburban city, Surrey is the province's second-largest by population after Vancouver and the third-largest by area after Abbotsford and Prince George. Seven neighbourhoods in Surrey are designated town centres: Cloverdale, Fleetwood, Guildford, Newton, South Surrey, and City Centre encompassed by Whalley</p>\n\n<p>In 2016 the population was recorded at 517,887, an increase of 10.6% from 2011. This made it the 12th largest city in Canada, while also being the fifth-largest city in Western Canada (after Calgary, Edmonton, Winnipeg and Vancouver). Surrey forms an integral part of Metro Vancouver as it is the second largest city in the region, albeit while also serving as the secondary economic core of the metropolitan area. When combined with the City of Vancouver, both cities account for nearly 50% of the region's population. In recent years, a rapidly expanding urban core in Downtown Surrey, located in Whalley has transformed the area into the secondary downtown core in Metro Vancouver.</p>\n\n|Canada 2016 Census     | Population | % of total population |\n| ----------- | ----------- |------------ |\n| South Asian  | 168,040     |32.4% |\n|Chinese|39,890|7.7%|\n|Filipino|\t31,865|\t6.2%|\n|Southeast Asian|\t13,010\t|2.5%|\n|Black\t|9,455\t|1.8%|\n|Korean|\t9,285|\t1.8%|\n|Latin American|\t7,065\t|1.4%|\n|Arab\t|5,765|\t1.1%|\n|West Asian|\t3,720\t|0.7%|\n|Japanese|\t2,850|\t0.6%|\n|<strong>Other visible minority</strong>|\t1,995|\t0.4%|\n|<strong>Mixed visible minority</strong>|\t6,320|\t1.2%|\n|<strong>Total visible minority population</strong>|\t299,245|\t57.8%|\n|<strong>Total Aboriginal population</strong>|\t13,460|\t2.6%|\n|<strong>Total population</strong>|\t517,887|\t100%|\n\n<p> As of 2010, Surrey had the highest median family income of CDN$78,283, while BC provincial median was $71,660, and national's median was $74,540. The average family income was $85,765. South Surrey area had the highest average household income of all six town centres in Surrey, with an average of $86,824 as of 2010. Median household income was also high at $62,960.South Surrey's neighbourhood of Rosemary Heights is the richest in Surrey and throughout the Metro Vancouver area, with a median income more than twice the regional average.As of 2010, the median household income of Surrey was $67,702 (versus the national median of $76,437), where 29.4 percent of households in Surrey earned a household total income of $100,000 or more, which is above the national average of 25.9 percent.</p>\n\n"
        },
        {
            "cell_type": "markdown",
            "metadata": {},
            "source": "## 2. Data \n\n<p>Data is mainly extracted from Geocoder - <a>https://geocoder.ca/?services=1&showupdates=1</a> and Foursquare - <a>https://foursquare.com/</a> </p>\n\n-how data will be used to solve the problem\n\n<strong>Step One</strong><br>\nPreprocessing the data set of British Columbia, Canada.\n\n<strong>Step Two</strong><br>\nVisualization of the data set of British Columbia, Canada.\n\n<strong>Step Two</strong><br>\nExploring the top 10 frequently visiting venues in Surrey, BC, Canada.\n\n<strong>Step Three</strong><br>\nVisualize the frequency of top 10 visiting venues in a sunburst chart.\n\n<strong>Step Four</strong><br>\nSuggest clusters of neighbourhoods who has same business tastes in Surrey, BC, Canada\n"
        },
        {
            "cell_type": "code",
            "execution_count": null,
            "metadata": {},
            "outputs": [],
            "source": ""
        }
    ],
    "metadata": {
        "kernelspec": {
            "display_name": "Python 3.7",
            "language": "python",
            "name": "python3"
        },
        "language_info": {
            "codemirror_mode": {
                "name": "ipython",
                "version": 3
            },
            "file_extension": ".py",
            "mimetype": "text/x-python",
            "name": "python",
            "nbconvert_exporter": "python",
            "pygments_lexer": "ipython3",
            "version": "3.7.9"
        }
    },
    "nbformat": 4,
    "nbformat_minor": 1
}